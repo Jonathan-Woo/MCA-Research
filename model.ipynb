{
 "cells": [
  {
   "attachments": {},
   "cell_type": "markdown",
   "metadata": {},
   "source": [
    "# **Non-Idealities Fitting Model**"
   ]
  },
  {
   "cell_type": "code",
   "execution_count": 51,
   "metadata": {},
   "outputs": [],
   "source": [
    "import numpy as np\n",
    "import pandas as pd\n",
    "from sklearn.decomposition import PCA\n",
    "from sklearn.preprocessing import StandardScaler\n",
    "from sklearn.pipeline import make_pipeline\n",
    "import matplotlib.pyplot as plt"
   ]
  },
  {
   "cell_type": "code",
   "execution_count": 52,
   "metadata": {},
   "outputs": [
    {
     "data": {
      "text/html": [
       "<div>\n",
       "<style scoped>\n",
       "    .dataframe tbody tr th:only-of-type {\n",
       "        vertical-align: middle;\n",
       "    }\n",
       "\n",
       "    .dataframe tbody tr th {\n",
       "        vertical-align: top;\n",
       "    }\n",
       "\n",
       "    .dataframe thead th {\n",
       "        text-align: right;\n",
       "    }\n",
       "</style>\n",
       "<table border=\"1\" class=\"dataframe\">\n",
       "  <thead>\n",
       "    <tr style=\"text-align: right;\">\n",
       "      <th></th>\n",
       "      <th>Model #</th>\n",
       "      <th>NWA</th>\n",
       "      <th>SRCV</th>\n",
       "      <th>NLCV</th>\n",
       "      <th>ACV</th>\n",
       "    </tr>\n",
       "  </thead>\n",
       "  <tbody>\n",
       "    <tr>\n",
       "      <th>0</th>\n",
       "      <td>0</td>\n",
       "      <td>0.065975</td>\n",
       "      <td>0.000678</td>\n",
       "      <td>0.004777</td>\n",
       "      <td>0.188207</td>\n",
       "    </tr>\n",
       "    <tr>\n",
       "      <th>1</th>\n",
       "      <td>1</td>\n",
       "      <td>0.022608</td>\n",
       "      <td>0.000487</td>\n",
       "      <td>0.003521</td>\n",
       "      <td>0.002008</td>\n",
       "    </tr>\n",
       "    <tr>\n",
       "      <th>2</th>\n",
       "      <td>2</td>\n",
       "      <td>0.068977</td>\n",
       "      <td>0.000721</td>\n",
       "      <td>0.004432</td>\n",
       "      <td>0.301947</td>\n",
       "    </tr>\n",
       "    <tr>\n",
       "      <th>3</th>\n",
       "      <td>3</td>\n",
       "      <td>0.035396</td>\n",
       "      <td>0.000537</td>\n",
       "      <td>0.003860</td>\n",
       "      <td>0.171614</td>\n",
       "    </tr>\n",
       "    <tr>\n",
       "      <th>4</th>\n",
       "      <td>4</td>\n",
       "      <td>0.065797</td>\n",
       "      <td>0.000673</td>\n",
       "      <td>0.004295</td>\n",
       "      <td>0.179593</td>\n",
       "    </tr>\n",
       "  </tbody>\n",
       "</table>\n",
       "</div>"
      ],
      "text/plain": [
       "   Model #       NWA      SRCV      NLCV       ACV\n",
       "0        0  0.065975  0.000678  0.004777  0.188207\n",
       "1        1  0.022608  0.000487  0.003521  0.002008\n",
       "2        2  0.068977  0.000721  0.004432  0.301947\n",
       "3        3  0.035396  0.000537  0.003860  0.171614\n",
       "4        4  0.065797  0.000673  0.004295  0.179593"
      ]
     },
     "execution_count": 52,
     "metadata": {},
     "output_type": "execute_result"
    }
   ],
   "source": [
    "data = pd.read_csv('data.csv')\n",
    "data.head()"
   ]
  },
  {
   "cell_type": "code",
   "execution_count": 53,
   "metadata": {},
   "outputs": [],
   "source": [
    "#conduct feature scaling before PCA\n",
    "pipe = make_pipeline(StandardScaler(), PCA(n_components=2))\n",
    "\n",
    "pca_data = pipe.fit_transform(data.loc[:, 'SRCV':'ACV'])\n",
    "plot_data = np.concatenate([pca_data, np.array(data.loc[:, 'NWA']).reshape(-1,1)], axis=1)"
   ]
  },
  {
   "cell_type": "code",
   "execution_count": 54,
   "metadata": {},
   "outputs": [
    {
     "data": {
      "text/plain": [
       "[<mpl_toolkits.mplot3d.art3d.Line3D at 0x7fdb5a29b4c0>]"
      ]
     },
     "execution_count": 54,
     "metadata": {},
     "output_type": "execute_result"
    },
    {
     "data": {
      "image/png": "[encoded data removed]",
      "text/plain": [
       "<Figure size 432x288 with 1 Axes>"
      ]
     },
     "metadata": {
      "needs_background": "light"
     },
     "output_type": "display_data"
    }
   ],
   "source": [
    "ax = plt.figure().add_subplot(projection='3d')\n",
    "plt.plot(plot_data[:,0], plot_data[:,1], plot_data[:,2])"
   ]
  },
  {
   "cell_type": "code",
   "execution_count": 55,
   "metadata": {},
   "outputs": [],
   "source": [
    "plot_DF = pd.DataFrame(plot_data, columns=['PC 1', 'PC 2', 'NWA'])\n",
    "plot_DF.to_csv('plot.csv', index=False)"
   ]
  },
  {
   "attachments": {},
   "cell_type": "markdown",
   "metadata": {},
   "source": [
    "# Poly Fit"
   ]
  },
  {
   "cell_type": "code",
   "execution_count": 56,
   "metadata": {},
   "outputs": [],
   "source": [
    "from sklearn.preprocessing import PolynomialFeatures\n",
    "from sklearn.linear_model import LinearRegression\n",
    "from sklearn.model_selection import train_test_split"
   ]
  },
  {
   "cell_type": "code",
   "execution_count": 59,
   "metadata": {},
   "outputs": [
    {
     "name": "stdout",
     "output_type": "stream",
     "text": [
      "Degree: 1 \t Residual: 0.5149\n",
      "Degree: 2 \t Residual: 0.0492\n",
      "Degree: 3 \t Residual: 0.0088\n",
      "Degree: 4 \t Residual: 0.0036\n",
      "Degree: 5 \t Residual: 0.0045\n",
      "Degree: 6 \t Residual: 0.0026\n",
      "Degree: 7 \t Residual: 0.0011\n",
      "Degree: 8 \t Residual: 0.0011\n",
      "Degree: 9 \t Residual: 0.0012\n",
      "Degree: 10 \t Residual: 0.0013\n",
      "Degree: 11 \t Residual: 0.0009\n",
      "Degree: 12 \t Residual: 0.0053\n",
      "Degree: 13 \t Residual: 0.001\n",
      "Degree: 14 \t Residual: 0.0041\n",
      "Degree: 15 \t Residual: 0.0017\n",
      "Degree: 16 \t Residual: 0.0013\n",
      "Degree: 17 \t Residual: 0.0022\n",
      "Degree: 18 \t Residual: 0.0011\n",
      "Degree: 19 \t Residual: 0.0045\n",
      "Degree: 20 \t Residual: 0.0019\n",
      "Degree: 21 \t Residual: 0.0012\n",
      "Degree: 22 \t Residual: 0.0064\n",
      "Degree: 23 \t Residual: 0.0013\n",
      "Degree: 24 \t Residual: 0.0043\n"
     ]
    }
   ],
   "source": [
    "deg = 25\n",
    "\n",
    "#Extract data to fit\n",
    "y = np.array(data.loc[:, 'NWA']).reshape(-1,1)\n",
    "x = np.array(data.loc[:, 'SRCV':'ACV'])\n",
    "\n",
    "#Create feature map\n",
    "def feature_map(deg, x):\n",
    "    poly = PolynomialFeatures(degree=deg)\n",
    "    x_trf = poly.fit_transform(x)\n",
    "    return x_trf\n",
    "\n",
    "for d in range(1, deg):\n",
    "    x_trf = feature_map(d, x)\n",
    "\n",
    "    #Split data\n",
    "    x_train, x_test, y_train, y_test = train_test_split(x_trf, y, test_size=0.3)\n",
    "\n",
    "    #train model\n",
    "    model = LinearRegression()\n",
    "    model.fit(x_train, y_train)\n",
    "    \n",
    "    residual = np.linalg.norm(y_test - model.predict(x_test))\n",
    "\n",
    "    print('Degree:', d, '\\t Residual:', round(residual, 4))"
   ]
  },
  {
   "cell_type": "code",
   "execution_count": null,
   "metadata": {},
   "outputs": [],
   "source": [
    "#Compute residuals and plot histogram\n",
    "residuals = y_test - clf.predict(x_test)\n",
    "\n",
    "plt.hist(residuals)\n",
    "plt.xlim(-0.01,0.01)\n",
    "plt.xlabel('Residual')\n",
    "plt.ylabel('Counts')\n",
    "plt.title('Histogram of Residuals on Test Set for Deg = ' + str(deg))\n",
    "plt.show()\n",
    "plt.savefig('Histograms/'+str(deg)+'.png')"
   ]
  },
  {
   "cell_type": "code",
   "execution_count": null,
   "metadata": {},
   "outputs": [],
   "source": []
  }
 ],
 "metadata": {
  "kernelspec": {
   "display_name": "base",
   "language": "python",
   "name": "python3"
  },
  "language_info": {
   "codemirror_mode": {
    "name": "ipython",
    "version": 3
   },
   "file_extension": ".py",
   "mimetype": "text/x-python",
   "name": "python",
   "nbconvert_exporter": "python",
   "pygments_lexer": "ipython3",
   "version": "3.9.12"
  },
  "orig_nbformat": 4,
  "vscode": {
   "interpreter": {
    "hash": "756038276adb7c15af001b5020c010140deb8d8a1e1e1f5168acc3e498688239"
   }
  }
 },
 "nbformat": 4,
 "nbformat_minor": 2
}
